{
 "cells": [
  {
   "cell_type": "code",
   "execution_count": null,
   "metadata": {
    "colab": {},
    "colab_type": "code",
    "id": "zX4Kg8DUTKWO"
   },
   "outputs": [],
   "source": [
    "#@title Licensed under the Apache License, Version 2.0 (the \"License\");\n",
    "# you may not use this file except in compliance with the License.\n",
    "# You may obtain a copy of the License at\n",
    "#\n",
    "# https://www.apache.org/licenses/LICENSE-2.0\n",
    "#\n",
    "# Unless required by applicable law or agreed to in writing, software\n",
    "# distributed under the License is distributed on an \"AS IS\" BASIS,\n",
    "# WITHOUT WARRANTIES OR CONDITIONS OF ANY KIND, either express or implied.\n",
    "# See the License for the specific language governing permissions and\n",
    "# limitations under the License."
   ]
  },
  {
   "cell_type": "markdown",
   "metadata": {
    "colab_type": "text",
    "id": "hPmdfQIqAxNd"
   },
   "source": [
    "<a href=\"https://colab.research.google.com/github/lmoroney/dlaicourse/blob/master/TensorFlow%20In%20Practice/Course%203%20-%20NLP/Course%203%20-%20Week%203%20-%20Lesson%202.ipynb\" target=\"_parent\"><img src=\"https://colab.research.google.com/assets/colab-badge.svg\" alt=\"Open In Colab\"/></a>"
   ]
  },
  {
   "cell_type": "code",
   "execution_count": 1,
   "metadata": {},
   "outputs": [
    {
     "name": "stdout",
     "output_type": "stream",
     "text": [
      "Device mapping:\n",
      "/job:localhost/replica:0/task:0/device:XLA_CPU:0 -> device: XLA_CPU device\n",
      "/job:localhost/replica:0/task:0/device:GPU:0 -> device: 0, name: GeForce RTX 2070 SUPER, pci bus id: 0000:26:00.0, compute capability: 7.5\n",
      "/job:localhost/replica:0/task:0/device:XLA_GPU:0 -> device: XLA_GPU device\n",
      "\n"
     ]
    }
   ],
   "source": [
    "import tensorflow as tf\n",
    "\n",
    "from tensorflow.compat.v1.keras.backend import set_session\n",
    "\n",
    "config = tf.compat.v1.ConfigProto()\n",
    "\n",
    "config.gpu_options.allow_growth = True  # dynamically grow the memory used on the GPU\n",
    "\n",
    "config.log_device_placement = True  # to log device placement (on which device the operation ran)\n",
    "\n",
    "sess = tf.compat.v1.Session(config=config)\n",
    "\n",
    "set_session(sess)"
   ]
  },
  {
   "cell_type": "code",
   "execution_count": 2,
   "metadata": {
    "colab": {},
    "colab_type": "code",
    "id": "jGwXGIXvFhXW"
   },
   "outputs": [
    {
     "name": "stdout",
     "output_type": "stream",
     "text": [
      "--2020-06-29 18:03:09--  https://storage.googleapis.com/laurencemoroney-blog.appspot.com/sarcasm.json\n",
      "Resolving storage.googleapis.com (storage.googleapis.com)... 216.58.203.16, 216.58.203.48, 172.217.174.240, ...\n",
      "Connecting to storage.googleapis.com (storage.googleapis.com)|216.58.203.16|:443... connected.\n",
      "HTTP request sent, awaiting response... 200 OK\n",
      "Length: 5643545 (5.4M) [application/json]\n",
      "Saving to: ‘/tmp/sarcasm.json’\n",
      "\n",
      "/tmp/sarcasm.json   100%[===================>]   5.38M  6.31MB/s    in 0.9s    \n",
      "\n",
      "2020-06-29 18:03:10 (6.31 MB/s) - ‘/tmp/sarcasm.json’ saved [5643545/5643545]\n",
      "\n",
      "Model: \"sequential\"\n",
      "_________________________________________________________________\n",
      "Layer (type)                 Output Shape              Param #   \n",
      "=================================================================\n",
      "embedding (Embedding)        (None, 120, 16)           16000     \n",
      "_________________________________________________________________\n",
      "bidirectional (Bidirectional (None, 64)                12544     \n",
      "_________________________________________________________________\n",
      "dense (Dense)                (None, 24)                1560      \n",
      "_________________________________________________________________\n",
      "dense_1 (Dense)              (None, 1)                 25        \n",
      "=================================================================\n",
      "Total params: 30,129\n",
      "Trainable params: 30,129\n",
      "Non-trainable params: 0\n",
      "_________________________________________________________________\n",
      "Epoch 1/50\n",
      "625/625 [==============================] - 8s 13ms/step - loss: 0.4492 - accuracy: 0.7732 - val_loss: 0.3842 - val_accuracy: 0.8216\n",
      "Epoch 2/50\n",
      "625/625 [==============================] - 7s 12ms/step - loss: 0.3580 - accuracy: 0.8349 - val_loss: 0.3795 - val_accuracy: 0.8277\n",
      "Epoch 3/50\n",
      "625/625 [==============================] - 7s 12ms/step - loss: 0.3324 - accuracy: 0.8502 - val_loss: 0.3770 - val_accuracy: 0.8296\n",
      "Epoch 4/50\n",
      "625/625 [==============================] - 7s 12ms/step - loss: 0.3145 - accuracy: 0.8589 - val_loss: 0.3721 - val_accuracy: 0.8317\n",
      "Epoch 5/50\n",
      "625/625 [==============================] - 7s 12ms/step - loss: 0.3023 - accuracy: 0.8664 - val_loss: 0.3858 - val_accuracy: 0.8255\n",
      "Epoch 6/50\n",
      "625/625 [==============================] - 7s 12ms/step - loss: 0.2950 - accuracy: 0.8695 - val_loss: 0.3773 - val_accuracy: 0.8328\n",
      "Epoch 7/50\n",
      "625/625 [==============================] - 8s 12ms/step - loss: 0.2847 - accuracy: 0.8765 - val_loss: 0.3872 - val_accuracy: 0.8283\n",
      "Epoch 8/50\n",
      "625/625 [==============================] - 7s 12ms/step - loss: 0.2759 - accuracy: 0.8788 - val_loss: 0.4019 - val_accuracy: 0.8262\n",
      "Epoch 9/50\n",
      "625/625 [==============================] - 7s 12ms/step - loss: 0.2700 - accuracy: 0.8819 - val_loss: 0.3990 - val_accuracy: 0.8289\n",
      "Epoch 10/50\n",
      "625/625 [==============================] - 7s 12ms/step - loss: 0.2642 - accuracy: 0.8864 - val_loss: 0.3886 - val_accuracy: 0.8308\n",
      "Epoch 11/50\n",
      "625/625 [==============================] - 7s 12ms/step - loss: 0.2563 - accuracy: 0.8907 - val_loss: 0.4057 - val_accuracy: 0.8241\n",
      "Epoch 12/50\n",
      "625/625 [==============================] - 8s 12ms/step - loss: 0.2497 - accuracy: 0.8928 - val_loss: 0.4218 - val_accuracy: 0.8252\n",
      "Epoch 13/50\n",
      "625/625 [==============================] - 8s 12ms/step - loss: 0.2428 - accuracy: 0.8974 - val_loss: 0.4284 - val_accuracy: 0.8171\n",
      "Epoch 14/50\n",
      "625/625 [==============================] - 7s 12ms/step - loss: 0.2358 - accuracy: 0.8989 - val_loss: 0.4450 - val_accuracy: 0.8210\n",
      "Epoch 15/50\n",
      "625/625 [==============================] - 7s 12ms/step - loss: 0.2298 - accuracy: 0.9047 - val_loss: 0.4671 - val_accuracy: 0.8179\n",
      "Epoch 16/50\n",
      "625/625 [==============================] - 7s 12ms/step - loss: 0.2225 - accuracy: 0.9051 - val_loss: 0.4442 - val_accuracy: 0.8222\n",
      "Epoch 17/50\n",
      "625/625 [==============================] - 7s 12ms/step - loss: 0.2164 - accuracy: 0.9080 - val_loss: 0.4653 - val_accuracy: 0.8223\n",
      "Epoch 18/50\n",
      "625/625 [==============================] - 7s 12ms/step - loss: 0.2094 - accuracy: 0.9118 - val_loss: 0.4861 - val_accuracy: 0.8196\n",
      "Epoch 19/50\n",
      "625/625 [==============================] - 7s 12ms/step - loss: 0.2000 - accuracy: 0.9175 - val_loss: 0.4772 - val_accuracy: 0.8198\n",
      "Epoch 20/50\n",
      "625/625 [==============================] - 7s 12ms/step - loss: 0.1937 - accuracy: 0.9212 - val_loss: 0.5456 - val_accuracy: 0.8192\n",
      "Epoch 21/50\n",
      "625/625 [==============================] - 8s 12ms/step - loss: 0.1849 - accuracy: 0.9241 - val_loss: 0.6051 - val_accuracy: 0.8176\n",
      "Epoch 22/50\n",
      "625/625 [==============================] - 7s 12ms/step - loss: 0.1809 - accuracy: 0.9261 - val_loss: 0.5810 - val_accuracy: 0.8161\n",
      "Epoch 23/50\n",
      "625/625 [==============================] - 7s 12ms/step - loss: 0.1695 - accuracy: 0.9305 - val_loss: 0.6232 - val_accuracy: 0.8153\n",
      "Epoch 24/50\n",
      "625/625 [==============================] - 7s 12ms/step - loss: 0.1623 - accuracy: 0.9347 - val_loss: 0.6181 - val_accuracy: 0.8140\n",
      "Epoch 25/50\n",
      "625/625 [==============================] - 7s 12ms/step - loss: 0.1584 - accuracy: 0.9340 - val_loss: 0.6552 - val_accuracy: 0.8117\n",
      "Epoch 26/50\n",
      "625/625 [==============================] - 7s 12ms/step - loss: 0.1486 - accuracy: 0.9390 - val_loss: 0.6989 - val_accuracy: 0.8038\n",
      "Epoch 27/50\n",
      "625/625 [==============================] - 7s 12ms/step - loss: 0.1444 - accuracy: 0.9401 - val_loss: 0.7696 - val_accuracy: 0.8109\n",
      "Epoch 28/50\n",
      "625/625 [==============================] - 7s 12ms/step - loss: 0.1361 - accuracy: 0.9435 - val_loss: 0.8497 - val_accuracy: 0.8041\n",
      "Epoch 29/50\n",
      "625/625 [==============================] - 7s 12ms/step - loss: 0.1308 - accuracy: 0.9449 - val_loss: 0.8098 - val_accuracy: 0.8056\n",
      "Epoch 30/50\n",
      "625/625 [==============================] - 7s 12ms/step - loss: 0.1223 - accuracy: 0.9488 - val_loss: 0.9421 - val_accuracy: 0.8070\n",
      "Epoch 31/50\n",
      "625/625 [==============================] - 7s 12ms/step - loss: 0.1167 - accuracy: 0.9514 - val_loss: 0.9581 - val_accuracy: 0.8034\n",
      "Epoch 32/50\n",
      "625/625 [==============================] - 7s 12ms/step - loss: 0.1144 - accuracy: 0.9505 - val_loss: 1.0363 - val_accuracy: 0.8022\n",
      "Epoch 33/50\n",
      "625/625 [==============================] - 7s 12ms/step - loss: 0.1066 - accuracy: 0.9557 - val_loss: 1.0179 - val_accuracy: 0.8013\n",
      "Epoch 34/50\n",
      "625/625 [==============================] - 7s 12ms/step - loss: 0.1050 - accuracy: 0.9555 - val_loss: 1.0842 - val_accuracy: 0.8025\n",
      "Epoch 35/50\n",
      "625/625 [==============================] - 7s 12ms/step - loss: 0.1004 - accuracy: 0.9584 - val_loss: 1.1642 - val_accuracy: 0.8062\n",
      "Epoch 36/50\n",
      "625/625 [==============================] - 7s 12ms/step - loss: 0.0942 - accuracy: 0.9588 - val_loss: 1.2217 - val_accuracy: 0.8022\n",
      "Epoch 37/50\n",
      "625/625 [==============================] - 7s 12ms/step - loss: 0.0908 - accuracy: 0.9595 - val_loss: 1.2998 - val_accuracy: 0.8019\n",
      "Epoch 38/50\n",
      "625/625 [==============================] - 7s 12ms/step - loss: 0.0926 - accuracy: 0.9598 - val_loss: 1.3079 - val_accuracy: 0.8034\n",
      "Epoch 39/50\n",
      "625/625 [==============================] - 7s 12ms/step - loss: 0.0911 - accuracy: 0.9595 - val_loss: 1.4200 - val_accuracy: 0.8024\n",
      "Epoch 40/50\n",
      "625/625 [==============================] - 7s 12ms/step - loss: 0.0830 - accuracy: 0.9630 - val_loss: 1.3772 - val_accuracy: 0.7942\n",
      "Epoch 41/50\n",
      "625/625 [==============================] - 7s 12ms/step - loss: 0.0809 - accuracy: 0.9638 - val_loss: 1.4756 - val_accuracy: 0.7959\n",
      "Epoch 42/50\n",
      "625/625 [==============================] - 7s 12ms/step - loss: 0.0781 - accuracy: 0.9654 - val_loss: 1.4242 - val_accuracy: 0.8035\n",
      "Epoch 43/50\n",
      "625/625 [==============================] - 7s 12ms/step - loss: 0.0759 - accuracy: 0.9657 - val_loss: 1.5737 - val_accuracy: 0.8027\n",
      "Epoch 44/50\n",
      "625/625 [==============================] - 7s 12ms/step - loss: 0.0732 - accuracy: 0.9678 - val_loss: 1.5520 - val_accuracy: 0.8049\n",
      "Epoch 45/50\n",
      "625/625 [==============================] - 7s 12ms/step - loss: 0.0687 - accuracy: 0.9691 - val_loss: 1.6429 - val_accuracy: 0.7977\n",
      "Epoch 46/50\n",
      "625/625 [==============================] - 7s 12ms/step - loss: 0.0716 - accuracy: 0.9678 - val_loss: 1.5884 - val_accuracy: 0.8004\n",
      "Epoch 47/50\n",
      "625/625 [==============================] - 7s 12ms/step - loss: 0.0654 - accuracy: 0.9707 - val_loss: 1.7402 - val_accuracy: 0.7973\n"
     ]
    },
    {
     "name": "stdout",
     "output_type": "stream",
     "text": [
      "Epoch 48/50\n",
      "625/625 [==============================] - 7s 12ms/step - loss: 0.0689 - accuracy: 0.9700 - val_loss: 1.7015 - val_accuracy: 0.7956\n",
      "Epoch 49/50\n",
      "625/625 [==============================] - 7s 12ms/step - loss: 0.0628 - accuracy: 0.9713 - val_loss: 1.8389 - val_accuracy: 0.8012\n",
      "Epoch 50/50\n",
      "625/625 [==============================] - 7s 12ms/step - loss: 0.0617 - accuracy: 0.9727 - val_loss: 2.0164 - val_accuracy: 0.7985\n"
     ]
    }
   ],
   "source": [
    "import numpy as np\n",
    "\n",
    "import json\n",
    "import tensorflow as tf\n",
    "\n",
    "from tensorflow.keras.preprocessing.text import Tokenizer\n",
    "from tensorflow.keras.preprocessing.sequence import pad_sequences\n",
    "\n",
    "!wget --no-check-certificate \\\n",
    "    https://storage.googleapis.com/laurencemoroney-blog.appspot.com/sarcasm.json \\\n",
    "    -O /tmp/sarcasm.json\n",
    "\n",
    "vocab_size = 1000\n",
    "embedding_dim = 16\n",
    "max_length = 120\n",
    "trunc_type='post'\n",
    "padding_type='post'\n",
    "oov_tok = \"<OOV>\"\n",
    "training_size = 20000\n",
    "\n",
    "\n",
    "with open(\"/tmp/sarcasm.json\", 'r') as f:\n",
    "    datastore = json.load(f)\n",
    "\n",
    "\n",
    "sentences = []\n",
    "labels = []\n",
    "urls = []\n",
    "for item in datastore:\n",
    "    sentences.append(item['headline'])\n",
    "    labels.append(item['is_sarcastic'])\n",
    "\n",
    "training_sentences = sentences[0:training_size]\n",
    "testing_sentences = sentences[training_size:]\n",
    "training_labels = labels[0:training_size]\n",
    "testing_labels = labels[training_size:]\n",
    "\n",
    "tokenizer = Tokenizer(num_words=vocab_size, oov_token=oov_tok)\n",
    "tokenizer.fit_on_texts(training_sentences)\n",
    "\n",
    "word_index = tokenizer.word_index\n",
    "\n",
    "training_sequences = tokenizer.texts_to_sequences(training_sentences)\n",
    "training_padded = pad_sequences(training_sequences, maxlen=max_length, padding=padding_type, truncating=trunc_type)\n",
    "\n",
    "testing_sequences = tokenizer.texts_to_sequences(testing_sentences)\n",
    "testing_padded = pad_sequences(testing_sequences, maxlen=max_length, padding=padding_type, truncating=trunc_type)\n",
    "\n",
    "model = tf.keras.Sequential([\n",
    "    tf.keras.layers.Embedding(vocab_size, embedding_dim, input_length=max_length),\n",
    "    tf.keras.layers.Bidirectional(tf.keras.layers.LSTM(32)),\n",
    "    tf.keras.layers.Dense(24, activation='relu'),\n",
    "    tf.keras.layers.Dense(1, activation='sigmoid')\n",
    "])\n",
    "model.compile(loss='binary_crossentropy',optimizer='adam',metrics=['accuracy'])\n",
    "model.summary()\n",
    "\n",
    "num_epochs = 50\n",
    "training_padded = np.array(training_padded)\n",
    "training_labels = np.array(training_labels)\n",
    "testing_padded = np.array(testing_padded)\n",
    "testing_labels = np.array(testing_labels)\n",
    "history = model.fit(training_padded, training_labels, epochs=num_epochs, validation_data=(testing_padded, testing_labels), verbose=1)\n"
   ]
  },
  {
   "cell_type": "code",
   "execution_count": 3,
   "metadata": {
    "colab": {},
    "colab_type": "code",
    "id": "g9DC6dmLF8DC"
   },
   "outputs": [
    {
     "data": {
      "image/png": "[encoded data removed]",
      "text/plain": [
       "<Figure size 432x288 with 1 Axes>"
      ]
     },
     "metadata": {
      "needs_background": "light"
     },
     "output_type": "display_data"
    },
    {
     "data": {
      "image/png": "[encoded data removed]",
      "text/plain": [
       "<Figure size 432x288 with 1 Axes>"
      ]
     },
     "metadata": {
      "needs_background": "light"
     },
     "output_type": "display_data"
    }
   ],
   "source": [
    "import matplotlib.pyplot as plt\n",
    "\n",
    "\n",
    "def plot_graphs(history, string):\n",
    "    plt.plot(history.history[string])\n",
    "    plt.plot(history.history['val_'+string])\n",
    "    plt.xlabel(\"Epochs\")\n",
    "    plt.ylabel(string)\n",
    "    plt.legend([string, 'val_'+string])\n",
    "    plt.show()\n",
    "\n",
    "plot_graphs(history, 'accuracy')\n",
    "plot_graphs(history, 'loss')"
   ]
  },
  {
   "cell_type": "code",
   "execution_count": 4,
   "metadata": {
    "colab": {},
    "colab_type": "code",
    "id": "7ZEZIUppGhdi"
   },
   "outputs": [],
   "source": [
    "model.save(\"test_lstm.h5\")"
   ]
  },
  {
   "cell_type": "code",
   "execution_count": null,
   "metadata": {},
   "outputs": [],
   "source": []
  }
 ],
 "metadata": {
  "accelerator": "GPU",
  "colab": {
   "collapsed_sections": [],
   "name": "Course 3 - Week 3 - Lesson 2.ipynb",
   "provenance": [],
   "toc_visible": true
  },
  "kernelspec": {
   "display_name": "tf_gpu",
   "language": "python",
   "name": "tf_gpu"
  },
  "language_info": {
   "codemirror_mode": {
    "name": "ipython",
    "version": 3
   },
   "file_extension": ".py",
   "mimetype": "text/x-python",
   "name": "python",
   "nbconvert_exporter": "python",
   "pygments_lexer": "ipython3",
   "version": "3.8.3"
  }
 },
 "nbformat": 4,
 "nbformat_minor": 1
}
