{
 "cells": [
  {
   "cell_type": "code",
   "execution_count": null,
   "metadata": {
    "colab": {},
    "colab_type": "code",
    "id": "zX4Kg8DUTKWO"
   },
   "outputs": [],
   "source": [
    "#@title Licensed under the Apache License, Version 2.0 (the \"License\");\n",
    "# you may not use this file except in compliance with the License.\n",
    "# You may obtain a copy of the License at\n",
    "#\n",
    "# https://www.apache.org/licenses/LICENSE-2.0\n",
    "#\n",
    "# Unless required by applicable law or agreed to in writing, software\n",
    "# distributed under the License is distributed on an \"AS IS\" BASIS,\n",
    "# WITHOUT WARRANTIES OR CONDITIONS OF ANY KIND, either express or implied.\n",
    "# See the License for the specific language governing permissions and\n",
    "# limitations under the License."
   ]
  },
  {
   "cell_type": "markdown",
   "metadata": {
    "colab_type": "text",
    "id": "Ddc2WWImBKiD"
   },
   "source": [
    "<a href=\"https://colab.research.google.com/github/lmoroney/dlaicourse/blob/master/TensorFlow%20In%20Practice/Course%203%20-%20NLP/Course%203%20-%20Week%203%20-%20Lesson%202c.ipynb\" target=\"_parent\"><img src=\"https://colab.research.google.com/assets/colab-badge.svg\" alt=\"Open In Colab\"/></a>"
   ]
  },
  {
   "cell_type": "code",
   "execution_count": 1,
   "metadata": {},
   "outputs": [
    {
     "name": "stdout",
     "output_type": "stream",
     "text": [
      "Device mapping:\n",
      "/job:localhost/replica:0/task:0/device:XLA_CPU:0 -> device: XLA_CPU device\n",
      "/job:localhost/replica:0/task:0/device:GPU:0 -> device: 0, name: GeForce RTX 2070 SUPER, pci bus id: 0000:26:00.0, compute capability: 7.5\n",
      "/job:localhost/replica:0/task:0/device:XLA_GPU:0 -> device: XLA_GPU device\n",
      "\n"
     ]
    }
   ],
   "source": [
    "import tensorflow as tf\n",
    "\n",
    "from tensorflow.compat.v1.keras.backend import set_session\n",
    "\n",
    "config = tf.compat.v1.ConfigProto()\n",
    "\n",
    "config.gpu_options.allow_growth = True  # dynamically grow the memory used on the GPU\n",
    "\n",
    "config.log_device_placement = True  # to log device placement (on which device the operation ran)\n",
    "\n",
    "sess = tf.compat.v1.Session(config=config)\n",
    "\n",
    "set_session(sess)"
   ]
  },
  {
   "cell_type": "code",
   "execution_count": 2,
   "metadata": {
    "colab": {},
    "colab_type": "code",
    "id": "jGwXGIXvFhXW"
   },
   "outputs": [
    {
     "name": "stdout",
     "output_type": "stream",
     "text": [
      "--2020-06-29 17:57:36--  https://storage.googleapis.com/laurencemoroney-blog.appspot.com/sarcasm.json\n",
      "Resolving storage.googleapis.com (storage.googleapis.com)... 172.217.160.208, 216.58.196.80, 216.58.203.16, ...\n",
      "Connecting to storage.googleapis.com (storage.googleapis.com)|172.217.160.208|:443... connected.\n",
      "HTTP request sent, awaiting response... 200 OK\n",
      "Length: 5643545 (5.4M) [application/json]\n",
      "Saving to: ‘/tmp/sarcasm.json’\n",
      "\n",
      "/tmp/sarcasm.json   100%[===================>]   5.38M  8.08MB/s    in 0.7s    \n",
      "\n",
      "2020-06-29 17:57:37 (8.08 MB/s) - ‘/tmp/sarcasm.json’ saved [5643545/5643545]\n",
      "\n",
      "Model: \"sequential\"\n",
      "_________________________________________________________________\n",
      "Layer (type)                 Output Shape              Param #   \n",
      "=================================================================\n",
      "embedding (Embedding)        (None, 120, 16)           16000     \n",
      "_________________________________________________________________\n",
      "conv1d (Conv1D)              (None, 116, 128)          10368     \n",
      "_________________________________________________________________\n",
      "global_max_pooling1d (Global (None, 128)               0         \n",
      "_________________________________________________________________\n",
      "dense (Dense)                (None, 24)                3096      \n",
      "_________________________________________________________________\n",
      "dense_1 (Dense)              (None, 1)                 25        \n",
      "=================================================================\n",
      "Total params: 29,489\n",
      "Trainable params: 29,489\n",
      "Non-trainable params: 0\n",
      "_________________________________________________________________\n",
      "Epoch 1/50\n",
      "625/625 [==============================] - 2s 4ms/step - loss: 0.4706 - accuracy: 0.7567 - val_loss: 0.4082 - val_accuracy: 0.8146\n",
      "Epoch 2/50\n",
      "625/625 [==============================] - 2s 3ms/step - loss: 0.3549 - accuracy: 0.8390 - val_loss: 0.4128 - val_accuracy: 0.8161\n",
      "Epoch 3/50\n",
      "625/625 [==============================] - 2s 3ms/step - loss: 0.3174 - accuracy: 0.8603 - val_loss: 0.3882 - val_accuracy: 0.8210\n",
      "Epoch 4/50\n",
      "625/625 [==============================] - 2s 2ms/step - loss: 0.2828 - accuracy: 0.8796 - val_loss: 0.4196 - val_accuracy: 0.8183\n",
      "Epoch 5/50\n",
      "625/625 [==============================] - 1s 2ms/step - loss: 0.2528 - accuracy: 0.8934 - val_loss: 0.4283 - val_accuracy: 0.8164\n",
      "Epoch 6/50\n",
      "625/625 [==============================] - 1s 2ms/step - loss: 0.2194 - accuracy: 0.9103 - val_loss: 0.4745 - val_accuracy: 0.8146\n",
      "Epoch 7/50\n",
      "625/625 [==============================] - 1s 2ms/step - loss: 0.1854 - accuracy: 0.9265 - val_loss: 0.5005 - val_accuracy: 0.8138\n",
      "Epoch 8/50\n",
      "625/625 [==============================] - 2s 2ms/step - loss: 0.1576 - accuracy: 0.9396 - val_loss: 0.5711 - val_accuracy: 0.8064\n",
      "Epoch 9/50\n",
      "625/625 [==============================] - 2s 2ms/step - loss: 0.1296 - accuracy: 0.9525 - val_loss: 0.6577 - val_accuracy: 0.8024\n",
      "Epoch 10/50\n",
      "625/625 [==============================] - 2s 2ms/step - loss: 0.1067 - accuracy: 0.9614 - val_loss: 0.7466 - val_accuracy: 0.8001\n",
      "Epoch 11/50\n",
      "625/625 [==============================] - 2s 2ms/step - loss: 0.0890 - accuracy: 0.9682 - val_loss: 0.8231 - val_accuracy: 0.7927\n",
      "Epoch 12/50\n",
      "625/625 [==============================] - 2s 2ms/step - loss: 0.0734 - accuracy: 0.9746 - val_loss: 0.9765 - val_accuracy: 0.7864\n",
      "Epoch 13/50\n",
      "625/625 [==============================] - 1s 2ms/step - loss: 0.0668 - accuracy: 0.9754 - val_loss: 0.9892 - val_accuracy: 0.7876\n",
      "Epoch 14/50\n",
      "625/625 [==============================] - 1s 2ms/step - loss: 0.0557 - accuracy: 0.9803 - val_loss: 1.1133 - val_accuracy: 0.7885\n",
      "Epoch 15/50\n",
      "625/625 [==============================] - 1s 2ms/step - loss: 0.0489 - accuracy: 0.9826 - val_loss: 1.1887 - val_accuracy: 0.7889\n",
      "Epoch 16/50\n",
      "625/625 [==============================] - 1s 2ms/step - loss: 0.0459 - accuracy: 0.9836 - val_loss: 1.2665 - val_accuracy: 0.7870\n",
      "Epoch 17/50\n",
      "625/625 [==============================] - 1s 2ms/step - loss: 0.0403 - accuracy: 0.9851 - val_loss: 1.3342 - val_accuracy: 0.7867\n",
      "Epoch 18/50\n",
      "625/625 [==============================] - 1s 2ms/step - loss: 0.0412 - accuracy: 0.9834 - val_loss: 1.3892 - val_accuracy: 0.7867\n",
      "Epoch 19/50\n",
      "625/625 [==============================] - 2s 2ms/step - loss: 0.0400 - accuracy: 0.9850 - val_loss: 1.4808 - val_accuracy: 0.7860\n",
      "Epoch 20/50\n",
      "625/625 [==============================] - 2s 2ms/step - loss: 0.0356 - accuracy: 0.9868 - val_loss: 1.5835 - val_accuracy: 0.7794\n",
      "Epoch 21/50\n",
      "625/625 [==============================] - 1s 2ms/step - loss: 0.0386 - accuracy: 0.9847 - val_loss: 1.5580 - val_accuracy: 0.7798\n",
      "Epoch 22/50\n",
      "625/625 [==============================] - 1s 2ms/step - loss: 0.0291 - accuracy: 0.9891 - val_loss: 1.6836 - val_accuracy: 0.7842\n",
      "Epoch 23/50\n",
      "625/625 [==============================] - 1s 2ms/step - loss: 0.0289 - accuracy: 0.9893 - val_loss: 1.7376 - val_accuracy: 0.7866\n",
      "Epoch 24/50\n",
      "625/625 [==============================] - 1s 2ms/step - loss: 0.0310 - accuracy: 0.9879 - val_loss: 1.7326 - val_accuracy: 0.7797\n",
      "Epoch 25/50\n",
      "625/625 [==============================] - 1s 2ms/step - loss: 0.0351 - accuracy: 0.9858 - val_loss: 1.7144 - val_accuracy: 0.7840\n",
      "Epoch 26/50\n",
      "625/625 [==============================] - 2s 3ms/step - loss: 0.0302 - accuracy: 0.9872 - val_loss: 1.8126 - val_accuracy: 0.7800\n",
      "Epoch 27/50\n",
      "625/625 [==============================] - 2s 2ms/step - loss: 0.0248 - accuracy: 0.9898 - val_loss: 2.1213 - val_accuracy: 0.7743\n",
      "Epoch 28/50\n",
      "625/625 [==============================] - 1s 2ms/step - loss: 0.0258 - accuracy: 0.9898 - val_loss: 1.9573 - val_accuracy: 0.7885\n",
      "Epoch 29/50\n",
      "625/625 [==============================] - 1s 2ms/step - loss: 0.0248 - accuracy: 0.9897 - val_loss: 1.9994 - val_accuracy: 0.7852\n",
      "Epoch 30/50\n",
      "625/625 [==============================] - 1s 2ms/step - loss: 0.0264 - accuracy: 0.9894 - val_loss: 1.9862 - val_accuracy: 0.7937\n",
      "Epoch 31/50\n",
      "625/625 [==============================] - 2s 3ms/step - loss: 0.0260 - accuracy: 0.9891 - val_loss: 2.0685 - val_accuracy: 0.7861\n",
      "Epoch 32/50\n",
      "625/625 [==============================] - 2s 2ms/step - loss: 0.0262 - accuracy: 0.9883 - val_loss: 2.0393 - val_accuracy: 0.7781\n",
      "Epoch 33/50\n",
      "625/625 [==============================] - 2s 3ms/step - loss: 0.0291 - accuracy: 0.9890 - val_loss: 2.1767 - val_accuracy: 0.7819\n",
      "Epoch 34/50\n",
      "625/625 [==============================] - 1s 2ms/step - loss: 0.0243 - accuracy: 0.9890 - val_loss: 2.1810 - val_accuracy: 0.7793\n",
      "Epoch 35/50\n",
      "625/625 [==============================] - 2s 3ms/step - loss: 0.0243 - accuracy: 0.9905 - val_loss: 2.3209 - val_accuracy: 0.7828\n",
      "Epoch 36/50\n",
      "625/625 [==============================] - 2s 3ms/step - loss: 0.0253 - accuracy: 0.9897 - val_loss: 2.2110 - val_accuracy: 0.7839\n",
      "Epoch 37/50\n",
      "625/625 [==============================] - 2s 3ms/step - loss: 0.0219 - accuracy: 0.9906 - val_loss: 2.2875 - val_accuracy: 0.7879\n",
      "Epoch 38/50\n",
      "625/625 [==============================] - 2s 2ms/step - loss: 0.0267 - accuracy: 0.9898 - val_loss: 2.4447 - val_accuracy: 0.7813\n",
      "Epoch 39/50\n",
      "625/625 [==============================] - 1s 2ms/step - loss: 0.0255 - accuracy: 0.9894 - val_loss: 2.4023 - val_accuracy: 0.7824\n",
      "Epoch 40/50\n",
      "625/625 [==============================] - 2s 3ms/step - loss: 0.0214 - accuracy: 0.9909 - val_loss: 2.3068 - val_accuracy: 0.7849\n",
      "Epoch 41/50\n",
      "625/625 [==============================] - 2s 3ms/step - loss: 0.0188 - accuracy: 0.9916 - val_loss: 2.4449 - val_accuracy: 0.7897\n",
      "Epoch 42/50\n",
      "625/625 [==============================] - 2s 2ms/step - loss: 0.0231 - accuracy: 0.9902 - val_loss: 2.4743 - val_accuracy: 0.7888\n",
      "Epoch 43/50\n",
      "625/625 [==============================] - 1s 2ms/step - loss: 0.0249 - accuracy: 0.9894 - val_loss: 2.5608 - val_accuracy: 0.7818\n",
      "Epoch 44/50\n",
      "625/625 [==============================] - 1s 2ms/step - loss: 0.0247 - accuracy: 0.9893 - val_loss: 2.3347 - val_accuracy: 0.7803\n",
      "Epoch 45/50\n",
      "625/625 [==============================] - 2s 2ms/step - loss: 0.0217 - accuracy: 0.9905 - val_loss: 2.3937 - val_accuracy: 0.7858\n",
      "Epoch 46/50\n",
      "625/625 [==============================] - 1s 2ms/step - loss: 0.0191 - accuracy: 0.9916 - val_loss: 2.6108 - val_accuracy: 0.7848\n",
      "Epoch 47/50\n"
     ]
    },
    {
     "name": "stdout",
     "output_type": "stream",
     "text": [
      "625/625 [==============================] - 1s 2ms/step - loss: 0.0189 - accuracy: 0.9920 - val_loss: 2.5304 - val_accuracy: 0.7809\n",
      "Epoch 48/50\n",
      "625/625 [==============================] - 1s 2ms/step - loss: 0.0192 - accuracy: 0.9912 - val_loss: 2.7120 - val_accuracy: 0.7849\n",
      "Epoch 49/50\n",
      "625/625 [==============================] - 2s 2ms/step - loss: 0.0272 - accuracy: 0.9888 - val_loss: 2.4212 - val_accuracy: 0.7879\n",
      "Epoch 50/50\n",
      "625/625 [==============================] - 2s 3ms/step - loss: 0.0173 - accuracy: 0.9924 - val_loss: 2.6818 - val_accuracy: 0.7833\n"
     ]
    }
   ],
   "source": [
    "import numpy as np\n",
    "\n",
    "import json\n",
    "import tensorflow as tf\n",
    "\n",
    "from tensorflow.keras.preprocessing.text import Tokenizer\n",
    "from tensorflow.keras.preprocessing.sequence import pad_sequences\n",
    "\n",
    "!wget --no-check-certificate \\\n",
    "    https://storage.googleapis.com/laurencemoroney-blog.appspot.com/sarcasm.json \\\n",
    "    -O /tmp/sarcasm.json\n",
    "\n",
    "vocab_size = 1000\n",
    "embedding_dim = 16\n",
    "max_length = 120\n",
    "trunc_type='post'\n",
    "padding_type='post'\n",
    "oov_tok = \"<OOV>\"\n",
    "training_size = 20000\n",
    "\n",
    "\n",
    "with open(\"/tmp/sarcasm.json\", 'r') as f:\n",
    "    datastore = json.load(f)\n",
    "\n",
    "\n",
    "sentences = []\n",
    "labels = []\n",
    "urls = []\n",
    "for item in datastore:\n",
    "    sentences.append(item['headline'])\n",
    "    labels.append(item['is_sarcastic'])\n",
    "\n",
    "training_sentences = sentences[0:training_size]\n",
    "testing_sentences = sentences[training_size:]\n",
    "training_labels = labels[0:training_size]\n",
    "testing_labels = labels[training_size:]\n",
    "\n",
    "tokenizer = Tokenizer(num_words=vocab_size, oov_token=oov_tok)\n",
    "tokenizer.fit_on_texts(training_sentences)\n",
    "\n",
    "word_index = tokenizer.word_index\n",
    "\n",
    "training_sequences = tokenizer.texts_to_sequences(training_sentences)\n",
    "training_padded = pad_sequences(training_sequences, maxlen=max_length, padding=padding_type, truncating=trunc_type)\n",
    "\n",
    "testing_sequences = tokenizer.texts_to_sequences(testing_sentences)\n",
    "testing_padded = pad_sequences(testing_sequences, maxlen=max_length, padding=padding_type, truncating=trunc_type)\n",
    "\n",
    "model = tf.keras.Sequential([\n",
    "    tf.keras.layers.Embedding(vocab_size, embedding_dim, input_length=max_length),\n",
    "    tf.keras.layers.Conv1D(128, 5, activation='relu'),\n",
    "    tf.keras.layers.GlobalMaxPooling1D(),\n",
    "    tf.keras.layers.Dense(24, activation='relu'),\n",
    "    tf.keras.layers.Dense(1, activation='sigmoid')\n",
    "])\n",
    "model.compile(loss='binary_crossentropy',optimizer='adam',metrics=['accuracy'])\n",
    "model.summary()\n",
    "\n",
    "num_epochs = 50\n",
    "\n",
    "training_padded = np.array(training_padded)\n",
    "training_labels = np.array(training_labels)\n",
    "testing_padded = np.array(testing_padded)\n",
    "testing_labels = np.array(testing_labels)\n",
    "\n",
    "history = model.fit(training_padded, training_labels, epochs=num_epochs, validation_data=(testing_padded, testing_labels), verbose=1)\n"
   ]
  },
  {
   "cell_type": "code",
   "execution_count": 3,
   "metadata": {
    "colab": {},
    "colab_type": "code",
    "id": "g9DC6dmLF8DC"
   },
   "outputs": [
    {
     "data": {
      "image/png": "[encoded data removed]",
      "text/plain": [
       "<Figure size 432x288 with 1 Axes>"
      ]
     },
     "metadata": {
      "needs_background": "light"
     },
     "output_type": "display_data"
    },
    {
     "data": {
      "image/png": "[encoded data removed]",
      "text/plain": [
       "<Figure size 432x288 with 1 Axes>"
      ]
     },
     "metadata": {
      "needs_background": "light"
     },
     "output_type": "display_data"
    }
   ],
   "source": [
    "import matplotlib.pyplot as plt\n",
    "\n",
    "\n",
    "def plot_graphs(history, string):\n",
    "    plt.plot(history.history[string])\n",
    "    plt.plot(history.history['val_'+string])\n",
    "    plt.xlabel(\"Epochs\")\n",
    "    plt.ylabel(string)\n",
    "    plt.legend([string, 'val_'+string])\n",
    "    plt.show()\n",
    "\n",
    "plot_graphs(history, 'accuracy')\n",
    "plot_graphs(history, 'loss')"
   ]
  },
  {
   "cell_type": "code",
   "execution_count": 4,
   "metadata": {
    "colab": {},
    "colab_type": "code",
    "id": "7ZEZIUppGhdi"
   },
   "outputs": [],
   "source": [
    "model.save(\"test.h5\")"
   ]
  },
  {
   "cell_type": "code",
   "execution_count": null,
   "metadata": {},
   "outputs": [],
   "source": []
  }
 ],
 "metadata": {
  "accelerator": "GPU",
  "colab": {
   "collapsed_sections": [],
   "name": "Course 3 - Week 3 - Lesson 2c.ipynb",
   "provenance": [],
   "toc_visible": true
  },
  "kernelspec": {
   "display_name": "tf_gpu",
   "language": "python",
   "name": "tf_gpu"
  },
  "language_info": {
   "codemirror_mode": {
    "name": "ipython",
    "version": 3
   },
   "file_extension": ".py",
   "mimetype": "text/x-python",
   "name": "python",
   "nbconvert_exporter": "python",
   "pygments_lexer": "ipython3",
   "version": "3.8.3"
  }
 },
 "nbformat": 4,
 "nbformat_minor": 1
}
